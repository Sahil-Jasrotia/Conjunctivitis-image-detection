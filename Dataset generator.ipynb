{
 "cells": [
  {
   "cell_type": "code",
   "execution_count": 1,
   "metadata": {},
   "outputs": [],
   "source": [
    "from tensorflow.keras.preprocessing.image import ImageDataGenerator\n",
    "import os\n",
    "import matplotlib.pyplot as plt\n",
    "import cv2\n",
    "import shutil"
   ]
  },
  {
   "cell_type": "code",
   "execution_count": 32,
   "metadata": {},
   "outputs": [],
   "source": [
    "os.chdir('D:\\\\Eye Classification\\\\Datasets\\\\')"
   ]
  },
  {
   "cell_type": "code",
   "execution_count": 33,
   "metadata": {},
   "outputs": [],
   "source": [
    "image_gen_1 = ImageDataGenerator(rotation_range=5, # rotate the image 5 degrees\n",
    "                               width_shift_range=0.02, # Shift the pic width by a max of 2%\n",
    "                               height_shift_range=0.02, # Shift the pic height by a max of 2%\n",
    "                               rescale=1/255, # Rescale the image by normalzing it.\n",
    "                               shear_range=-0.01, # Shear means cutting away part of the image (max 1%)\n",
    "                               zoom_range=-0.01, # Zoom in by 1% max\n",
    "                               horizontal_flip=False, # Also horizontal flipping\n",
    "                               fill_mode='nearest' # Fill in missing pixels with the nearest filled value\n",
    "                              ) "
   ]
  },
  {
   "cell_type": "code",
   "execution_count": 34,
   "metadata": {},
   "outputs": [],
   "source": [
    "image_gen_2 = ImageDataGenerator(rotation_range=-5, # rotate the image 5 degrees\n",
    "                               width_shift_range=0.02, # Shift the pic width by a max of 2%\n",
    "                               height_shift_range=0.02, # Shift the pic height by a max of 2%\n",
    "                               rescale=1/255, # Rescale the image by normalzing it.\n",
    "                               shear_range=0.01, # Shear means cutting away part of the image (max 1%)\n",
    "                               zoom_range=0.01, # Zoom in by 1% max\n",
    "                               horizontal_flip=False, # Allo horizontal flipping\n",
    "                               fill_mode='nearest' # Fill in missing pixels with the nearest filled value\n",
    "                              )"
   ]
  },
  {
   "cell_type": "code",
   "execution_count": 35,
   "metadata": {},
   "outputs": [
    {
     "data": {
      "text/plain": [
       "'D:\\\\Eye Classification\\\\Datasets'"
      ]
     },
     "execution_count": 35,
     "metadata": {},
     "output_type": "execute_result"
    }
   ],
   "source": [
    "pwd"
   ]
  },
  {
   "cell_type": "code",
   "execution_count": 36,
   "metadata": {},
   "outputs": [
    {
     "name": "stdout",
     "output_type": "stream",
     "text": [
      " Volume in drive D is New Volume\n",
      " Volume Serial Number is 782F-B105\n",
      "\n",
      " Directory of D:\\Eye Classification\\Datasets\n",
      "\n",
      "07-06-2020  04:28 PM    <DIR>          .\n",
      "07-06-2020  04:28 PM    <DIR>          ..\n",
      "07-06-2020  04:36 PM    <DIR>          Red Eye\n",
      "07-06-2020  04:37 PM    <DIR>          White Eye\n",
      "               0 File(s)              0 bytes\n",
      "               4 Dir(s)  251,423,522,816 bytes free\n"
     ]
    }
   ],
   "source": [
    "!dir"
   ]
  },
  {
   "cell_type": "code",
   "execution_count": 37,
   "metadata": {},
   "outputs": [],
   "source": [
    "os.chdir(\"White Eye\")"
   ]
  },
  {
   "cell_type": "code",
   "execution_count": 38,
   "metadata": {},
   "outputs": [],
   "source": [
    "os.chdir(\"Train\")"
   ]
  },
  {
   "cell_type": "code",
   "execution_count": 39,
   "metadata": {},
   "outputs": [
    {
     "data": {
      "text/plain": [
       "'D:\\\\Eye Classification\\\\Datasets\\\\White Eye\\\\Train'"
      ]
     },
     "execution_count": 39,
     "metadata": {},
     "output_type": "execute_result"
    }
   ],
   "source": [
    "path=os.getcwd()\n",
    "path"
   ]
  },
  {
   "cell_type": "code",
   "execution_count": 40,
   "metadata": {},
   "outputs": [
    {
     "data": {
      "text/plain": [
       "['IMG_0003.JPG']"
      ]
     },
     "execution_count": 40,
     "metadata": {},
     "output_type": "execute_result"
    }
   ],
   "source": [
    "White_Eye = os.listdir()\n",
    "White_Eye"
   ]
  },
  {
   "cell_type": "code",
   "execution_count": 41,
   "metadata": {},
   "outputs": [
    {
     "data": {
      "text/plain": [
       "'IMG_0003.JPG'"
      ]
     },
     "execution_count": 41,
     "metadata": {},
     "output_type": "execute_result"
    }
   ],
   "source": [
    "White_Eye[0]"
   ]
  },
  {
   "cell_type": "code",
   "execution_count": 42,
   "metadata": {},
   "outputs": [
    {
     "name": "stdout",
     "output_type": "stream",
     "text": [
      "generated\n"
     ]
    }
   ],
   "source": [
    "for f_name in os.listdir():\n",
    "    if f_name.endswith('.JPG'):\n",
    "        img=os.getcwd()+\"\\\\\"+f_name\n",
    "        img=cv2.imread(img)\n",
    "        for i in range(1,50):\n",
    "            changed_img=image_gen_1.random_transform(img)\n",
    "            cv2.imwrite(filename=os.path.join(path+'\\\\'+f_name[:-4]+'_'+str(i)+'.jpg'),img=changed_img)\n",
    "        for i in range(51,100):\n",
    "            changed_img=image_gen_2.random_transform(img)\n",
    "            cv2.imwrite(filename=os.path.join(path+'\\\\'+f_name[:-4]+'_'+str(i)+'.jpg'),img=changed_img)\n",
    "print(\"generated\")\n"
   ]
  },
  {
   "cell_type": "code",
   "execution_count": null,
   "metadata": {},
   "outputs": [],
   "source": []
  }
 ],
 "metadata": {
  "kernelspec": {
   "display_name": "Python 3",
   "language": "python",
   "name": "python3"
  },
  "language_info": {
   "codemirror_mode": {
    "name": "ipython",
    "version": 3
   },
   "file_extension": ".py",
   "mimetype": "text/x-python",
   "name": "python",
   "nbconvert_exporter": "python",
   "pygments_lexer": "ipython3",
   "version": "3.7.4"
  }
 },
 "nbformat": 4,
 "nbformat_minor": 4
}
